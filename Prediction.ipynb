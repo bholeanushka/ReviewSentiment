{
 "cells": [
  {
   "cell_type": "code",
   "execution_count": 1,
   "metadata": {},
   "outputs": [],
   "source": [
    "import numpy as np\n",
    "import tensorflow as tf\n",
    "from tensorflow.keras.datasets import imdb\n",
    "from tensorflow.keras.models import Sequential\n",
    "from tensorflow.keras.preprocessing import sequence\n",
    "from tensorflow.keras.models import load_model"
   ]
  },
  {
   "cell_type": "code",
   "execution_count": 2,
   "metadata": {},
   "outputs": [],
   "source": [
    "# Load Imdb datset word index\n",
    "word_index = imdb.get_word_index()\n",
    "# Reverse the word index to get words from indices\n",
    "reversed_index = dict((value,key) for (key,value) in word_index.items())"
   ]
  },
  {
   "cell_type": "code",
   "execution_count": 3,
   "metadata": {},
   "outputs": [
    {
     "name": "stderr",
     "output_type": "stream",
     "text": [
      "WARNING:absl:Compiled the loaded model, but the compiled metrics have yet to be built. `model.compile_metrics` will be empty until you train or evaluate the model.\n"
     ]
    }
   ],
   "source": [
    "# Load the pre-trained model\n",
    "model = load_model('imdb_rnn_model.h5')"
   ]
  },
  {
   "cell_type": "code",
   "execution_count": 4,
   "metadata": {},
   "outputs": [
    {
     "data": {
      "text/html": [
       "<pre style=\"white-space:pre;overflow-x:auto;line-height:normal;font-family:Menlo,'DejaVu Sans Mono',consolas,'Courier New',monospace\"><span style=\"font-weight: bold\">Model: \"sequential_1\"</span>\n",
       "</pre>\n"
      ],
      "text/plain": [
       "\u001b[1mModel: \"sequential_1\"\u001b[0m\n"
      ]
     },
     "metadata": {},
     "output_type": "display_data"
    },
    {
     "data": {
      "text/html": [
       "<pre style=\"white-space:pre;overflow-x:auto;line-height:normal;font-family:Menlo,'DejaVu Sans Mono',consolas,'Courier New',monospace\">┏━━━━━━━━━━━━━━━━━━━━━━━━━━━━━━━━━┳━━━━━━━━━━━━━━━━━━━━━━━━┳━━━━━━━━━━━━━━━┓\n",
       "┃<span style=\"font-weight: bold\"> Layer (type)                    </span>┃<span style=\"font-weight: bold\"> Output Shape           </span>┃<span style=\"font-weight: bold\">       Param # </span>┃\n",
       "┡━━━━━━━━━━━━━━━━━━━━━━━━━━━━━━━━━╇━━━━━━━━━━━━━━━━━━━━━━━━╇━━━━━━━━━━━━━━━┩\n",
       "│ embedding_1 (<span style=\"color: #0087ff; text-decoration-color: #0087ff\">Embedding</span>)         │ (<span style=\"color: #00d7ff; text-decoration-color: #00d7ff\">None</span>, <span style=\"color: #00af00; text-decoration-color: #00af00\">500</span>, <span style=\"color: #00af00; text-decoration-color: #00af00\">128</span>)       │     <span style=\"color: #00af00; text-decoration-color: #00af00\">1,280,000</span> │\n",
       "├─────────────────────────────────┼────────────────────────┼───────────────┤\n",
       "│ simple_rnn_1 (<span style=\"color: #0087ff; text-decoration-color: #0087ff\">SimpleRNN</span>)        │ (<span style=\"color: #00d7ff; text-decoration-color: #00d7ff\">None</span>, <span style=\"color: #00af00; text-decoration-color: #00af00\">128</span>)            │        <span style=\"color: #00af00; text-decoration-color: #00af00\">32,896</span> │\n",
       "├─────────────────────────────────┼────────────────────────┼───────────────┤\n",
       "│ dense_1 (<span style=\"color: #0087ff; text-decoration-color: #0087ff\">Dense</span>)                 │ (<span style=\"color: #00d7ff; text-decoration-color: #00d7ff\">None</span>, <span style=\"color: #00af00; text-decoration-color: #00af00\">1</span>)              │           <span style=\"color: #00af00; text-decoration-color: #00af00\">129</span> │\n",
       "└─────────────────────────────────┴────────────────────────┴───────────────┘\n",
       "</pre>\n"
      ],
      "text/plain": [
       "┏━━━━━━━━━━━━━━━━━━━━━━━━━━━━━━━━━┳━━━━━━━━━━━━━━━━━━━━━━━━┳━━━━━━━━━━━━━━━┓\n",
       "┃\u001b[1m \u001b[0m\u001b[1mLayer (type)                   \u001b[0m\u001b[1m \u001b[0m┃\u001b[1m \u001b[0m\u001b[1mOutput Shape          \u001b[0m\u001b[1m \u001b[0m┃\u001b[1m \u001b[0m\u001b[1m      Param #\u001b[0m\u001b[1m \u001b[0m┃\n",
       "┡━━━━━━━━━━━━━━━━━━━━━━━━━━━━━━━━━╇━━━━━━━━━━━━━━━━━━━━━━━━╇━━━━━━━━━━━━━━━┩\n",
       "│ embedding_1 (\u001b[38;5;33mEmbedding\u001b[0m)         │ (\u001b[38;5;45mNone\u001b[0m, \u001b[38;5;34m500\u001b[0m, \u001b[38;5;34m128\u001b[0m)       │     \u001b[38;5;34m1,280,000\u001b[0m │\n",
       "├─────────────────────────────────┼────────────────────────┼───────────────┤\n",
       "│ simple_rnn_1 (\u001b[38;5;33mSimpleRNN\u001b[0m)        │ (\u001b[38;5;45mNone\u001b[0m, \u001b[38;5;34m128\u001b[0m)            │        \u001b[38;5;34m32,896\u001b[0m │\n",
       "├─────────────────────────────────┼────────────────────────┼───────────────┤\n",
       "│ dense_1 (\u001b[38;5;33mDense\u001b[0m)                 │ (\u001b[38;5;45mNone\u001b[0m, \u001b[38;5;34m1\u001b[0m)              │           \u001b[38;5;34m129\u001b[0m │\n",
       "└─────────────────────────────────┴────────────────────────┴───────────────┘\n"
      ]
     },
     "metadata": {},
     "output_type": "display_data"
    },
    {
     "data": {
      "text/html": [
       "<pre style=\"white-space:pre;overflow-x:auto;line-height:normal;font-family:Menlo,'DejaVu Sans Mono',consolas,'Courier New',monospace\"><span style=\"font-weight: bold\"> Total params: </span><span style=\"color: #00af00; text-decoration-color: #00af00\">1,313,027</span> (5.01 MB)\n",
       "</pre>\n"
      ],
      "text/plain": [
       "\u001b[1m Total params: \u001b[0m\u001b[38;5;34m1,313,027\u001b[0m (5.01 MB)\n"
      ]
     },
     "metadata": {},
     "output_type": "display_data"
    },
    {
     "data": {
      "text/html": [
       "<pre style=\"white-space:pre;overflow-x:auto;line-height:normal;font-family:Menlo,'DejaVu Sans Mono',consolas,'Courier New',monospace\"><span style=\"font-weight: bold\"> Trainable params: </span><span style=\"color: #00af00; text-decoration-color: #00af00\">1,313,025</span> (5.01 MB)\n",
       "</pre>\n"
      ],
      "text/plain": [
       "\u001b[1m Trainable params: \u001b[0m\u001b[38;5;34m1,313,025\u001b[0m (5.01 MB)\n"
      ]
     },
     "metadata": {},
     "output_type": "display_data"
    },
    {
     "data": {
      "text/html": [
       "<pre style=\"white-space:pre;overflow-x:auto;line-height:normal;font-family:Menlo,'DejaVu Sans Mono',consolas,'Courier New',monospace\"><span style=\"font-weight: bold\"> Non-trainable params: </span><span style=\"color: #00af00; text-decoration-color: #00af00\">0</span> (0.00 B)\n",
       "</pre>\n"
      ],
      "text/plain": [
       "\u001b[1m Non-trainable params: \u001b[0m\u001b[38;5;34m0\u001b[0m (0.00 B)\n"
      ]
     },
     "metadata": {},
     "output_type": "display_data"
    },
    {
     "data": {
      "text/html": [
       "<pre style=\"white-space:pre;overflow-x:auto;line-height:normal;font-family:Menlo,'DejaVu Sans Mono',consolas,'Courier New',monospace\"><span style=\"font-weight: bold\"> Optimizer params: </span><span style=\"color: #00af00; text-decoration-color: #00af00\">2</span> (12.00 B)\n",
       "</pre>\n"
      ],
      "text/plain": [
       "\u001b[1m Optimizer params: \u001b[0m\u001b[38;5;34m2\u001b[0m (12.00 B)\n"
      ]
     },
     "metadata": {},
     "output_type": "display_data"
    }
   ],
   "source": [
    "model.summary()"
   ]
  },
  {
   "cell_type": "code",
   "execution_count": 5,
   "metadata": {},
   "outputs": [
    {
     "data": {
      "text/plain": [
       "[array([[ 0.8003428 ,  0.8373518 ,  0.53862864, ..., -0.7087734 ,\n",
       "          0.8106675 ,  0.6947273 ],\n",
       "        [ 0.06073965,  0.0343645 ,  0.06215783, ..., -0.01788041,\n",
       "          0.07029216, -0.01695738],\n",
       "        [ 0.16724467,  0.02096667,  0.13217023, ..., -0.02257336,\n",
       "          0.14893712,  0.05133499],\n",
       "        ...,\n",
       "        [ 0.03640237, -0.01687937,  0.05711421, ...,  0.05162111,\n",
       "          0.04069519,  0.00535225],\n",
       "        [-0.02389993, -0.00656525, -0.0584503 , ..., -0.03202479,\n",
       "          0.03323428, -0.01097096],\n",
       "        [-0.00663517, -0.06762832,  0.03930787, ..., -0.03756367,\n",
       "          0.06230619, -0.04925634]], dtype=float32),\n",
       " array([[ 0.10994812, -0.04642573,  0.02696823, ..., -0.08353131,\n",
       "         -0.00715454, -0.09875094],\n",
       "        [ 0.01496817, -0.07705857, -0.02876313, ...,  0.06275089,\n",
       "          0.13176703,  0.14749195],\n",
       "        [ 0.12840973, -0.09919222, -0.08889642, ...,  0.07681701,\n",
       "         -0.18389961,  0.11093951],\n",
       "        ...,\n",
       "        [-0.11243837,  0.04128497,  0.008819  , ...,  0.00635579,\n",
       "          0.05835156, -0.11277588],\n",
       "        [-0.07111845, -0.05415073,  0.11312423, ..., -0.11547695,\n",
       "         -0.03327304, -0.02984283],\n",
       "        [ 0.10208514,  0.02604453, -0.00276018, ..., -0.11450278,\n",
       "         -0.18772608, -0.11974856]], dtype=float32),\n",
       " array([[-0.05169424,  0.04597406, -0.07221415, ..., -0.02801205,\n",
       "         -0.06267856, -0.12791719],\n",
       "        [ 0.13914992,  0.00288386,  0.09007152, ...,  0.05016276,\n",
       "          0.17327711, -0.07613192],\n",
       "        [ 0.0328488 , -0.00806688, -0.06198591, ...,  0.04970279,\n",
       "          0.04027937, -0.04478124],\n",
       "        ...,\n",
       "        [-0.07583737,  0.0673947 , -0.06359176, ..., -0.02219208,\n",
       "          0.17943868, -0.12975182],\n",
       "        [-0.00024105,  0.19625123, -0.06816791, ..., -0.04659932,\n",
       "          0.10277828, -0.02720895],\n",
       "        [ 0.0192799 ,  0.07572442, -0.05846529, ..., -0.11518511,\n",
       "          0.02078828, -0.00640188]], dtype=float32),\n",
       " array([-0.02575748,  0.00030797,  0.00343006,  0.02159492, -0.02521717,\n",
       "        -0.01967215, -0.01810551,  0.00619685,  0.00264786,  0.05078592,\n",
       "        -0.0369249 ,  0.0025075 ,  0.02117734, -0.04159189, -0.02281357,\n",
       "        -0.03725277, -0.01602192, -0.01744374, -0.02698925, -0.02387531,\n",
       "        -0.00500259, -0.01684907, -0.01793229,  0.00604518,  0.02023154,\n",
       "         0.03575706,  0.00077368,  0.01753095, -0.01480677, -0.02572685,\n",
       "         0.0028271 , -0.00989486,  0.02979635, -0.03095598,  0.05242825,\n",
       "         0.01281998, -0.00864455, -0.02819912, -0.02399126,  0.03143558,\n",
       "        -0.0239722 , -0.04280277, -0.01363458, -0.02238321, -0.02400056,\n",
       "        -0.02107611, -0.0447292 , -0.00281097,  0.01939931,  0.0165938 ,\n",
       "        -0.00281707,  0.00203626, -0.02192024,  0.05331715, -0.02657295,\n",
       "        -0.00606754, -0.01685222, -0.02961665, -0.02790809,  0.00332347,\n",
       "        -0.01105306, -0.01089293,  0.04554294, -0.02236879, -0.00991086,\n",
       "        -0.01400587, -0.01920791, -0.01860441, -0.00494358, -0.03549811,\n",
       "        -0.01933432, -0.02639082,  0.00877158,  0.01242735,  0.02232171,\n",
       "        -0.02205393, -0.00788311, -0.0100247 , -0.01024065, -0.01666241,\n",
       "        -0.01792096, -0.00711223, -0.00105258, -0.01164697, -0.0166494 ,\n",
       "         0.01925024, -0.00681747, -0.02608642, -0.00656624, -0.03549579,\n",
       "        -0.00956227, -0.00983107, -0.00929662, -0.00549401, -0.01277437,\n",
       "         0.00739218, -0.03077508, -0.00050039,  0.02472308, -0.01549747,\n",
       "        -0.0277887 ,  0.01622796, -0.04659668,  0.04132301, -0.01253936,\n",
       "         0.02554403,  0.00129605,  0.00461156, -0.02819867, -0.01027013,\n",
       "        -0.0088985 , -0.01673304, -0.03504787, -0.02553537, -0.03257111,\n",
       "        -0.00425681, -0.0269324 , -0.01463235,  0.00421337, -0.01893391,\n",
       "         0.01584993, -0.044169  , -0.04615358,  0.01013101,  0.02386067,\n",
       "         0.00632356, -0.01993521,  0.00114922], dtype=float32),\n",
       " array([[ 0.00710801],\n",
       "        [ 0.06463297],\n",
       "        [-0.1018908 ],\n",
       "        [-0.04020546],\n",
       "        [-0.07083958],\n",
       "        [ 0.18114257],\n",
       "        [ 0.04024033],\n",
       "        [ 0.1734923 ],\n",
       "        [ 0.10419157],\n",
       "        [ 0.2752278 ],\n",
       "        [ 0.17040439],\n",
       "        [-0.11941552],\n",
       "        [-0.20342049],\n",
       "        [-0.18431485],\n",
       "        [ 0.01731799],\n",
       "        [ 0.08155628],\n",
       "        [-0.19568707],\n",
       "        [-0.18810295],\n",
       "        [-0.19876498],\n",
       "        [-0.03311798],\n",
       "        [-0.12592342],\n",
       "        [-0.07975629],\n",
       "        [-0.13875385],\n",
       "        [ 0.33321017],\n",
       "        [-0.13910595],\n",
       "        [-0.20634846],\n",
       "        [-0.059175  ],\n",
       "        [ 0.04201489],\n",
       "        [-0.00431662],\n",
       "        [ 0.10078706],\n",
       "        [-0.17315584],\n",
       "        [-0.37793523],\n",
       "        [ 0.16364367],\n",
       "        [-0.0745772 ],\n",
       "        [-0.14619547],\n",
       "        [-0.1262644 ],\n",
       "        [ 0.08652573],\n",
       "        [-0.1724823 ],\n",
       "        [-0.17511234],\n",
       "        [-0.00234722],\n",
       "        [-0.15031901],\n",
       "        [ 0.12851575],\n",
       "        [ 0.11039536],\n",
       "        [-0.1262606 ],\n",
       "        [-0.0185759 ],\n",
       "        [ 0.16860437],\n",
       "        [-0.03533527],\n",
       "        [ 0.1967629 ],\n",
       "        [-0.16146918],\n",
       "        [-0.01342329],\n",
       "        [ 0.2901736 ],\n",
       "        [-0.19148019],\n",
       "        [-0.00201517],\n",
       "        [ 0.25444102],\n",
       "        [-0.0995347 ],\n",
       "        [-0.06675521],\n",
       "        [ 0.18364319],\n",
       "        [ 0.04104521],\n",
       "        [ 0.069302  ],\n",
       "        [-0.14011893],\n",
       "        [ 0.10208825],\n",
       "        [-0.10560612],\n",
       "        [ 0.2129568 ],\n",
       "        [ 0.19450869],\n",
       "        [ 0.06901015],\n",
       "        [ 0.3103013 ],\n",
       "        [ 0.15954696],\n",
       "        [ 0.17807484],\n",
       "        [ 0.14304681],\n",
       "        [ 0.10381489],\n",
       "        [-0.13732108],\n",
       "        [-0.12604661],\n",
       "        [ 0.13028333],\n",
       "        [-0.18829186],\n",
       "        [-0.08461889],\n",
       "        [-0.12711991],\n",
       "        [ 0.10783967],\n",
       "        [ 0.07489061],\n",
       "        [ 0.00198107],\n",
       "        [-0.16832463],\n",
       "        [ 0.04954177],\n",
       "        [-0.13211349],\n",
       "        [ 0.29060063],\n",
       "        [-0.14770125],\n",
       "        [-0.23651256],\n",
       "        [-0.20817217],\n",
       "        [-0.14876057],\n",
       "        [-0.19299732],\n",
       "        [-0.14646408],\n",
       "        [-0.20457934],\n",
       "        [-0.1869519 ],\n",
       "        [ 0.17390904],\n",
       "        [-0.2566175 ],\n",
       "        [-0.0375045 ],\n",
       "        [ 0.15607037],\n",
       "        [-0.17574535],\n",
       "        [ 0.01936559],\n",
       "        [-0.1139392 ],\n",
       "        [-0.18354139],\n",
       "        [-0.12906328],\n",
       "        [ 0.15144123],\n",
       "        [ 0.11936051],\n",
       "        [-0.17701593],\n",
       "        [ 0.2301072 ],\n",
       "        [ 0.21174029],\n",
       "        [-0.17522252],\n",
       "        [-0.15826651],\n",
       "        [-0.13219553],\n",
       "        [ 0.34513727],\n",
       "        [-0.21534926],\n",
       "        [ 0.15770362],\n",
       "        [ 0.1066087 ],\n",
       "        [-0.10574239],\n",
       "        [-0.01569625],\n",
       "        [-0.19070935],\n",
       "        [ 0.09141281],\n",
       "        [-0.11762768],\n",
       "        [-0.04918404],\n",
       "        [ 0.00309174],\n",
       "        [ 0.21177988],\n",
       "        [ 0.2569631 ],\n",
       "        [-0.11513192],\n",
       "        [-0.0016503 ],\n",
       "        [ 0.18750255],\n",
       "        [ 0.03686981],\n",
       "        [ 0.09819494],\n",
       "        [-0.19785197],\n",
       "        [ 0.15748395]], dtype=float32),\n",
       " array([-0.19792883], dtype=float32)]"
      ]
     },
     "execution_count": 5,
     "metadata": {},
     "output_type": "execute_result"
    }
   ],
   "source": [
    "model.get_weights()"
   ]
  },
  {
   "cell_type": "code",
   "execution_count": 6,
   "metadata": {},
   "outputs": [],
   "source": [
    "## Helper function to decode reviews\n",
    "def decode_review(text):\n",
    "    # Decode the review from indices to words\n",
    "    return ' '.join([reversed_index.get(i - 3, '?') for i in text])\n",
    "\n",
    "# function to preprocess user input\n",
    "def preprocess_text(text):\n",
    "    # Convert the text to lowercase and split into words\n",
    "    words = text.lower().split()\n",
    "    # Convert words to indices using the word index\n",
    "    indices = [word_index.get(word, 2) + 3 for word in words]  # +3 to account for padding\n",
    "    padded_indices = sequence.pad_sequences([indices], maxlen=500)  # Pad to max length of 500\n",
    "    return padded_indices"
   ]
  },
  {
   "cell_type": "code",
   "execution_count": 7,
   "metadata": {},
   "outputs": [],
   "source": [
    "# Function to predict sentiment of a review\n",
    "\n",
    "def predict_sentiment(review):\n",
    "    preprocessed_input = preprocess_text(review)\n",
    "\n",
    "    # Make prediction\n",
    "    prediction = model.predict(preprocessed_input)\n",
    "\n",
    "    # Convert prediction to sentiment label\n",
    "    sentiment = 'Positive' if prediction[0][0] > 0.5 else 'Negative'\n",
    "    return sentiment, prediction[0][0]\n"
   ]
  },
  {
   "cell_type": "code",
   "execution_count": null,
   "metadata": {},
   "outputs": [
    {
     "name": "stdout",
     "output_type": "stream",
     "text": [
      "\u001b[1m1/1\u001b[0m \u001b[32m━━━━━━━━━━━━━━━━━━━━\u001b[0m\u001b[37m\u001b[0m \u001b[1m0s\u001b[0m 80ms/step\n",
      "Review: This movie was fantastic and thrilling. I loved it!\n",
      "Predicted Sentiment: Positive\n",
      " (Score: 0.9212)\n"
     ]
    }
   ],
   "source": [
    "# User input for prediction\n",
    "example_review = \"This movie was fantastic and thrilling. I loved it!\"\n",
    "sentiment, score = predict_sentiment(example_review)\n",
    "print(f\"Review: {example_review}\")\n",
    "print(f\"Predicted Sentiment: {sentiment}\\n (Score: {score:.4f})\")"
   ]
  }
 ],
 "metadata": {
  "kernelspec": {
   "display_name": ".venv",
   "language": "python",
   "name": "python3"
  },
  "language_info": {
   "codemirror_mode": {
    "name": "ipython",
    "version": 3
   },
   "file_extension": ".py",
   "mimetype": "text/x-python",
   "name": "python",
   "nbconvert_exporter": "python",
   "pygments_lexer": "ipython3",
   "version": "3.12.4"
  }
 },
 "nbformat": 4,
 "nbformat_minor": 2
}
