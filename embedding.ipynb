{
  "cells": [
    {
      "cell_type": "code",
      "execution_count": 1,
      "metadata": {
        "id": "0nq5Kh2usTrI"
      },
      "outputs": [],
      "source": [
        "from tensorflow.keras.preprocessing.text import one_hot"
      ]
    },
    {
      "cell_type": "code",
      "execution_count": 2,
      "metadata": {
        "colab": {
          "base_uri": "https://localhost:8080/"
        },
        "id": "sAbDYKpe7o2j",
        "outputId": "0e6f71e1-f93c-4519-b3f3-08659167c6ac"
      },
      "outputs": [
        {
          "data": {
            "text/plain": [
              "['The sun sets in the west.',\n",
              " 'Birds chirp in the morning.',\n",
              " 'Water is essential for life.',\n",
              " 'Books help us gain knowledge.',\n",
              " 'Flowers bloom in spring.']"
            ]
          },
          "execution_count": 2,
          "metadata": {},
          "output_type": "execute_result"
        }
      ],
      "source": [
        "sentences = [\n",
        "    \"The sun sets in the west.\",\n",
        "    \"Birds chirp in the morning.\",\n",
        "    \"Water is essential for life.\",\n",
        "    \"Books help us gain knowledge.\",\n",
        "    \"Flowers bloom in spring.\"\n",
        "]\n",
        "\n",
        "sentences"
      ]
    },
    {
      "cell_type": "code",
      "execution_count": 3,
      "metadata": {
        "id": "8YU_Z_qM8VHa"
      },
      "outputs": [],
      "source": [
        "## Define the vocablary size\n",
        "\n",
        "voc_size = 10000"
      ]
    },
    {
      "cell_type": "code",
      "execution_count": 4,
      "metadata": {
        "colab": {
          "base_uri": "https://localhost:8080/"
        },
        "id": "juzFPqR08fre",
        "outputId": "820831c4-3faf-4e2f-b511-15ed0a6def26"
      },
      "outputs": [
        {
          "data": {
            "text/plain": [
              "[[2639, 3096, 4113, 7491, 2639, 1087],\n",
              " [8590, 7643, 7491, 2639, 4388],\n",
              " [7959, 514, 2567, 246, 5481],\n",
              " [4912, 8389, 3471, 5471, 9694],\n",
              " [1296, 7858, 7491, 7427]]"
            ]
          },
          "execution_count": 4,
          "metadata": {},
          "output_type": "execute_result"
        }
      ],
      "source": [
        "## One hot representation\n",
        "one_hot_repr=[one_hot(words,voc_size) for words in sentences]\n",
        "one_hot_repr"
      ]
    },
    {
      "cell_type": "code",
      "execution_count": 5,
      "metadata": {
        "id": "c3bcSHjM9-7p"
      },
      "outputs": [],
      "source": [
        "## word embedding representation\n",
        "\n",
        "from tensorflow.keras.layers import Embedding\n",
        "from tensorflow.keras.preprocessing.sequence import pad_sequences\n",
        "from tensorflow.keras.models import Sequential"
      ]
    },
    {
      "cell_type": "code",
      "execution_count": 6,
      "metadata": {
        "id": "DWEQ-mJ8-Wl5"
      },
      "outputs": [],
      "source": [
        "import numpy as np"
      ]
    },
    {
      "cell_type": "code",
      "execution_count": 7,
      "metadata": {
        "colab": {
          "base_uri": "https://localhost:8080/"
        },
        "id": "sFT28n-b-lzY",
        "outputId": "803b7bb7-a6a5-48c5-86a9-1d26486639cf"
      },
      "outputs": [
        {
          "name": "stdout",
          "output_type": "stream",
          "text": [
            "[[   0    0 2639 3096 4113 7491 2639 1087]\n",
            " [   0    0    0 8590 7643 7491 2639 4388]\n",
            " [   0    0    0 7959  514 2567  246 5481]\n",
            " [   0    0    0 4912 8389 3471 5471 9694]\n",
            " [   0    0    0    0 1296 7858 7491 7427]]\n"
          ]
        }
      ],
      "source": [
        "max_sent_length = 8\n",
        "\n",
        "embedded_sent = pad_sequences(one_hot_repr,padding='pre',maxlen=max_sent_length)\n",
        "print(embedded_sent)"
      ]
    },
    {
      "cell_type": "code",
      "execution_count": 8,
      "metadata": {
        "id": "YDPxiMnS_PH1"
      },
      "outputs": [],
      "source": [
        "## feature representation\n",
        "dim = 10"
      ]
    },
    {
      "cell_type": "code",
      "execution_count": 13,
      "metadata": {
        "colab": {
          "base_uri": "https://localhost:8080/"
        },
        "id": "ZXwyHwjt_aP2",
        "outputId": "2837e468-0994-4899-d2db-3f4398b86d0d"
      },
      "outputs": [],
      "source": [
        "model=Sequential()\n",
        "model.add(Embedding(voc_size,dim,input_length=max_sent_length))\n",
        "model.compile('adam','mse')"
      ]
    },
    {
      "cell_type": "code",
      "execution_count": 14,
      "metadata": {
        "colab": {
          "base_uri": "https://localhost:8080/",
          "height": 161
        },
        "id": "Tmv-U5Fk_wSA",
        "outputId": "b335138f-34f2-403f-e180-26892f26d742"
      },
      "outputs": [
        {
          "data": {
            "text/html": [
              "<pre style=\"white-space:pre;overflow-x:auto;line-height:normal;font-family:Menlo,'DejaVu Sans Mono',consolas,'Courier New',monospace\"><span style=\"font-weight: bold\">Model: \"sequential_3\"</span>\n",
              "</pre>\n"
            ],
            "text/plain": [
              "\u001b[1mModel: \"sequential_3\"\u001b[0m\n"
            ]
          },
          "metadata": {},
          "output_type": "display_data"
        },
        {
          "data": {
            "text/html": [
              "<pre style=\"white-space:pre;overflow-x:auto;line-height:normal;font-family:Menlo,'DejaVu Sans Mono',consolas,'Courier New',monospace\">┏━━━━━━━━━━━━━━━━━━━━━━━━━━━━━━━━━┳━━━━━━━━━━━━━━━━━━━━━━━━┳━━━━━━━━━━━━━━━┓\n",
              "┃<span style=\"font-weight: bold\"> Layer (type)                    </span>┃<span style=\"font-weight: bold\"> Output Shape           </span>┃<span style=\"font-weight: bold\">       Param # </span>┃\n",
              "┡━━━━━━━━━━━━━━━━━━━━━━━━━━━━━━━━━╇━━━━━━━━━━━━━━━━━━━━━━━━╇━━━━━━━━━━━━━━━┩\n",
              "│ embedding_3 (<span style=\"color: #0087ff; text-decoration-color: #0087ff\">Embedding</span>)         │ ?                      │   <span style=\"color: #00af00; text-decoration-color: #00af00\">0</span> (unbuilt) │\n",
              "└─────────────────────────────────┴────────────────────────┴───────────────┘\n",
              "</pre>\n"
            ],
            "text/plain": [
              "┏━━━━━━━━━━━━━━━━━━━━━━━━━━━━━━━━━┳━━━━━━━━━━━━━━━━━━━━━━━━┳━━━━━━━━━━━━━━━┓\n",
              "┃\u001b[1m \u001b[0m\u001b[1mLayer (type)                   \u001b[0m\u001b[1m \u001b[0m┃\u001b[1m \u001b[0m\u001b[1mOutput Shape          \u001b[0m\u001b[1m \u001b[0m┃\u001b[1m \u001b[0m\u001b[1m      Param #\u001b[0m\u001b[1m \u001b[0m┃\n",
              "┡━━━━━━━━━━━━━━━━━━━━━━━━━━━━━━━━━╇━━━━━━━━━━━━━━━━━━━━━━━━╇━━━━━━━━━━━━━━━┩\n",
              "│ embedding_3 (\u001b[38;5;33mEmbedding\u001b[0m)         │ ?                      │   \u001b[38;5;34m0\u001b[0m (unbuilt) │\n",
              "└─────────────────────────────────┴────────────────────────┴───────────────┘\n"
            ]
          },
          "metadata": {},
          "output_type": "display_data"
        },
        {
          "data": {
            "text/html": [
              "<pre style=\"white-space:pre;overflow-x:auto;line-height:normal;font-family:Menlo,'DejaVu Sans Mono',consolas,'Courier New',monospace\"><span style=\"font-weight: bold\"> Total params: </span><span style=\"color: #00af00; text-decoration-color: #00af00\">0</span> (0.00 B)\n",
              "</pre>\n"
            ],
            "text/plain": [
              "\u001b[1m Total params: \u001b[0m\u001b[38;5;34m0\u001b[0m (0.00 B)\n"
            ]
          },
          "metadata": {},
          "output_type": "display_data"
        },
        {
          "data": {
            "text/html": [
              "<pre style=\"white-space:pre;overflow-x:auto;line-height:normal;font-family:Menlo,'DejaVu Sans Mono',consolas,'Courier New',monospace\"><span style=\"font-weight: bold\"> Trainable params: </span><span style=\"color: #00af00; text-decoration-color: #00af00\">0</span> (0.00 B)\n",
              "</pre>\n"
            ],
            "text/plain": [
              "\u001b[1m Trainable params: \u001b[0m\u001b[38;5;34m0\u001b[0m (0.00 B)\n"
            ]
          },
          "metadata": {},
          "output_type": "display_data"
        },
        {
          "data": {
            "text/html": [
              "<pre style=\"white-space:pre;overflow-x:auto;line-height:normal;font-family:Menlo,'DejaVu Sans Mono',consolas,'Courier New',monospace\"><span style=\"font-weight: bold\"> Non-trainable params: </span><span style=\"color: #00af00; text-decoration-color: #00af00\">0</span> (0.00 B)\n",
              "</pre>\n"
            ],
            "text/plain": [
              "\u001b[1m Non-trainable params: \u001b[0m\u001b[38;5;34m0\u001b[0m (0.00 B)\n"
            ]
          },
          "metadata": {},
          "output_type": "display_data"
        }
      ],
      "source": [
        "model.summary()"
      ]
    },
    {
      "cell_type": "code",
      "execution_count": 15,
      "metadata": {
        "id": "xDnF98mO_5vX"
      },
      "outputs": [
        {
          "name": "stdout",
          "output_type": "stream",
          "text": [
            "\u001b[1m1/1\u001b[0m \u001b[32m━━━━━━━━━━━━━━━━━━━━\u001b[0m\u001b[37m\u001b[0m \u001b[1m2s\u001b[0m 2s/step\n"
          ]
        },
        {
          "data": {
            "text/plain": [
              "array([[[-0.02262279,  0.01881728,  0.04145334, -0.00641381,\n",
              "         -0.00388323,  0.0425696 ,  0.01534754, -0.03518145,\n",
              "         -0.0496802 , -0.00281261],\n",
              "        [-0.02262279,  0.01881728,  0.04145334, -0.00641381,\n",
              "         -0.00388323,  0.0425696 ,  0.01534754, -0.03518145,\n",
              "         -0.0496802 , -0.00281261],\n",
              "        [ 0.03049464, -0.049602  ,  0.03377116,  0.00795424,\n",
              "          0.03676493, -0.01923545,  0.02592366,  0.01521936,\n",
              "          0.01001351, -0.04874031],\n",
              "        [-0.02836337,  0.0184075 ,  0.02303829,  0.03614894,\n",
              "          0.02217445,  0.03567104, -0.02799168, -0.01104988,\n",
              "          0.01254168, -0.01043925],\n",
              "        [ 0.02182573,  0.02558622,  0.00240737, -0.02127175,\n",
              "         -0.03225654, -0.00973941, -0.00962235, -0.00508998,\n",
              "         -0.02149426,  0.02307561],\n",
              "        [ 0.02687408, -0.03154441, -0.0014332 ,  0.02291426,\n",
              "          0.0277627 ,  0.00884179, -0.04485953, -0.00428619,\n",
              "         -0.00442439, -0.04849715],\n",
              "        [ 0.03049464, -0.049602  ,  0.03377116,  0.00795424,\n",
              "          0.03676493, -0.01923545,  0.02592366,  0.01521936,\n",
              "          0.01001351, -0.04874031],\n",
              "        [-0.04055954, -0.04942214,  0.03023315, -0.02270653,\n",
              "         -0.03567769, -0.04958925, -0.01248658, -0.00303023,\n",
              "         -0.03534998, -0.02329907]],\n",
              "\n",
              "       [[-0.02262279,  0.01881728,  0.04145334, -0.00641381,\n",
              "         -0.00388323,  0.0425696 ,  0.01534754, -0.03518145,\n",
              "         -0.0496802 , -0.00281261],\n",
              "        [-0.02262279,  0.01881728,  0.04145334, -0.00641381,\n",
              "         -0.00388323,  0.0425696 ,  0.01534754, -0.03518145,\n",
              "         -0.0496802 , -0.00281261],\n",
              "        [-0.02262279,  0.01881728,  0.04145334, -0.00641381,\n",
              "         -0.00388323,  0.0425696 ,  0.01534754, -0.03518145,\n",
              "         -0.0496802 , -0.00281261],\n",
              "        [-0.00759823,  0.03247127,  0.03274236,  0.04564099,\n",
              "          0.03787483, -0.03517128, -0.04214323,  0.02969345,\n",
              "         -0.00320164, -0.03583565],\n",
              "        [ 0.01368657, -0.03055387, -0.01169048, -0.03053024,\n",
              "         -0.03308555,  0.04801586, -0.04495407, -0.01534854,\n",
              "          0.04204467,  0.0354361 ],\n",
              "        [ 0.02687408, -0.03154441, -0.0014332 ,  0.02291426,\n",
              "          0.0277627 ,  0.00884179, -0.04485953, -0.00428619,\n",
              "         -0.00442439, -0.04849715],\n",
              "        [ 0.03049464, -0.049602  ,  0.03377116,  0.00795424,\n",
              "          0.03676493, -0.01923545,  0.02592366,  0.01521936,\n",
              "          0.01001351, -0.04874031],\n",
              "        [-0.0102603 , -0.02584792, -0.0309425 , -0.01598664,\n",
              "         -0.01406334, -0.03953242, -0.04423828,  0.04663971,\n",
              "         -0.0438731 ,  0.03667805]],\n",
              "\n",
              "       [[-0.02262279,  0.01881728,  0.04145334, -0.00641381,\n",
              "         -0.00388323,  0.0425696 ,  0.01534754, -0.03518145,\n",
              "         -0.0496802 , -0.00281261],\n",
              "        [-0.02262279,  0.01881728,  0.04145334, -0.00641381,\n",
              "         -0.00388323,  0.0425696 ,  0.01534754, -0.03518145,\n",
              "         -0.0496802 , -0.00281261],\n",
              "        [-0.02262279,  0.01881728,  0.04145334, -0.00641381,\n",
              "         -0.00388323,  0.0425696 ,  0.01534754, -0.03518145,\n",
              "         -0.0496802 , -0.00281261],\n",
              "        [ 0.03276136,  0.03715645, -0.01246066, -0.01319068,\n",
              "          0.03758737,  0.02752063, -0.03437519, -0.00110709,\n",
              "         -0.021136  , -0.0456429 ],\n",
              "        [ 0.03829001, -0.01459386, -0.03128197,  0.00572059,\n",
              "          0.04591372, -0.03017645,  0.04006446,  0.03147346,\n",
              "          0.03841874, -0.0042694 ],\n",
              "        [-0.01656803, -0.03887584,  0.00433315,  0.04417622,\n",
              "         -0.03247937,  0.00453688,  0.04023978, -0.0371817 ,\n",
              "         -0.04614247,  0.0465753 ],\n",
              "        [ 0.00510008,  0.04135132, -0.0158461 ,  0.04375634,\n",
              "         -0.04028076, -0.04455815,  0.02674509, -0.0036149 ,\n",
              "          0.04874735,  0.03015253],\n",
              "        [-0.00848799,  0.04347372,  0.03757623,  0.00063508,\n",
              "          0.02375125, -0.03763611, -0.00261214,  0.00568425,\n",
              "          0.0238469 ,  0.04267125]],\n",
              "\n",
              "       [[-0.02262279,  0.01881728,  0.04145334, -0.00641381,\n",
              "         -0.00388323,  0.0425696 ,  0.01534754, -0.03518145,\n",
              "         -0.0496802 , -0.00281261],\n",
              "        [-0.02262279,  0.01881728,  0.04145334, -0.00641381,\n",
              "         -0.00388323,  0.0425696 ,  0.01534754, -0.03518145,\n",
              "         -0.0496802 , -0.00281261],\n",
              "        [-0.02262279,  0.01881728,  0.04145334, -0.00641381,\n",
              "         -0.00388323,  0.0425696 ,  0.01534754, -0.03518145,\n",
              "         -0.0496802 , -0.00281261],\n",
              "        [ 0.04340278,  0.04192602,  0.02876634, -0.02009347,\n",
              "          0.00370711,  0.03368559, -0.01046901, -0.03334736,\n",
              "          0.01459635,  0.01738825],\n",
              "        [ 0.00753957, -0.02540572,  0.02539922, -0.04263328,\n",
              "          0.02516406,  0.02476198, -0.03544574, -0.02716761,\n",
              "          0.04379979,  0.0346032 ],\n",
              "        [ 0.03920487,  0.00903022,  0.04470235, -0.01754289,\n",
              "         -0.00699275,  0.00139208,  0.04469079, -0.01615176,\n",
              "         -0.00172267, -0.00026122],\n",
              "        [ 0.02845204, -0.00943891, -0.02999812,  0.03192847,\n",
              "         -0.04494523,  0.0404536 , -0.0032183 ,  0.02740276,\n",
              "         -0.02734661,  0.04961454],\n",
              "        [ 0.03472637,  0.01311335, -0.04920931, -0.01671252,\n",
              "         -0.04435806, -0.00970918, -0.04738715, -0.02879099,\n",
              "          0.00552286, -0.00082774]],\n",
              "\n",
              "       [[-0.02262279,  0.01881728,  0.04145334, -0.00641381,\n",
              "         -0.00388323,  0.0425696 ,  0.01534754, -0.03518145,\n",
              "         -0.0496802 , -0.00281261],\n",
              "        [-0.02262279,  0.01881728,  0.04145334, -0.00641381,\n",
              "         -0.00388323,  0.0425696 ,  0.01534754, -0.03518145,\n",
              "         -0.0496802 , -0.00281261],\n",
              "        [-0.02262279,  0.01881728,  0.04145334, -0.00641381,\n",
              "         -0.00388323,  0.0425696 ,  0.01534754, -0.03518145,\n",
              "         -0.0496802 , -0.00281261],\n",
              "        [-0.02262279,  0.01881728,  0.04145334, -0.00641381,\n",
              "         -0.00388323,  0.0425696 ,  0.01534754, -0.03518145,\n",
              "         -0.0496802 , -0.00281261],\n",
              "        [ 0.00363379,  0.04553069, -0.04350206, -0.00626002,\n",
              "         -0.01844512,  0.01079889,  0.04099346, -0.01157461,\n",
              "          0.04911916,  0.0082564 ],\n",
              "        [ 0.02862586,  0.00937875, -0.02089073, -0.01731392,\n",
              "          0.02517937, -0.03786346, -0.02942458,  0.01895777,\n",
              "          0.02900742,  0.03481584],\n",
              "        [ 0.02687408, -0.03154441, -0.0014332 ,  0.02291426,\n",
              "          0.0277627 ,  0.00884179, -0.04485953, -0.00428619,\n",
              "         -0.00442439, -0.04849715],\n",
              "        [-0.0210812 , -0.03652025,  0.02509483, -0.04587964,\n",
              "         -0.01240525,  0.04951027, -0.04796081, -0.04795045,\n",
              "         -0.02506649,  0.03934607]]], dtype=float32)"
            ]
          },
          "execution_count": 15,
          "metadata": {},
          "output_type": "execute_result"
        }
      ],
      "source": [
        "model.predict(embedded_sent)\n",
        "## The output is a 3D array"
      ]
    },
    {
      "cell_type": "code",
      "execution_count": 16,
      "metadata": {},
      "outputs": [
        {
          "data": {
            "text/html": [
              "<pre style=\"white-space:pre;overflow-x:auto;line-height:normal;font-family:Menlo,'DejaVu Sans Mono',consolas,'Courier New',monospace\"><span style=\"font-weight: bold\">Model: \"sequential_3\"</span>\n",
              "</pre>\n"
            ],
            "text/plain": [
              "\u001b[1mModel: \"sequential_3\"\u001b[0m\n"
            ]
          },
          "metadata": {},
          "output_type": "display_data"
        },
        {
          "data": {
            "text/html": [
              "<pre style=\"white-space:pre;overflow-x:auto;line-height:normal;font-family:Menlo,'DejaVu Sans Mono',consolas,'Courier New',monospace\">┏━━━━━━━━━━━━━━━━━━━━━━━━━━━━━━━━━┳━━━━━━━━━━━━━━━━━━━━━━━━┳━━━━━━━━━━━━━━━┓\n",
              "┃<span style=\"font-weight: bold\"> Layer (type)                    </span>┃<span style=\"font-weight: bold\"> Output Shape           </span>┃<span style=\"font-weight: bold\">       Param # </span>┃\n",
              "┡━━━━━━━━━━━━━━━━━━━━━━━━━━━━━━━━━╇━━━━━━━━━━━━━━━━━━━━━━━━╇━━━━━━━━━━━━━━━┩\n",
              "│ embedding_3 (<span style=\"color: #0087ff; text-decoration-color: #0087ff\">Embedding</span>)         │ (<span style=\"color: #00af00; text-decoration-color: #00af00\">5</span>, <span style=\"color: #00af00; text-decoration-color: #00af00\">8</span>, <span style=\"color: #00af00; text-decoration-color: #00af00\">10</span>)             │       <span style=\"color: #00af00; text-decoration-color: #00af00\">100,000</span> │\n",
              "└─────────────────────────────────┴────────────────────────┴───────────────┘\n",
              "</pre>\n"
            ],
            "text/plain": [
              "┏━━━━━━━━━━━━━━━━━━━━━━━━━━━━━━━━━┳━━━━━━━━━━━━━━━━━━━━━━━━┳━━━━━━━━━━━━━━━┓\n",
              "┃\u001b[1m \u001b[0m\u001b[1mLayer (type)                   \u001b[0m\u001b[1m \u001b[0m┃\u001b[1m \u001b[0m\u001b[1mOutput Shape          \u001b[0m\u001b[1m \u001b[0m┃\u001b[1m \u001b[0m\u001b[1m      Param #\u001b[0m\u001b[1m \u001b[0m┃\n",
              "┡━━━━━━━━━━━━━━━━━━━━━━━━━━━━━━━━━╇━━━━━━━━━━━━━━━━━━━━━━━━╇━━━━━━━━━━━━━━━┩\n",
              "│ embedding_3 (\u001b[38;5;33mEmbedding\u001b[0m)         │ (\u001b[38;5;34m5\u001b[0m, \u001b[38;5;34m8\u001b[0m, \u001b[38;5;34m10\u001b[0m)             │       \u001b[38;5;34m100,000\u001b[0m │\n",
              "└─────────────────────────────────┴────────────────────────┴───────────────┘\n"
            ]
          },
          "metadata": {},
          "output_type": "display_data"
        },
        {
          "data": {
            "text/html": [
              "<pre style=\"white-space:pre;overflow-x:auto;line-height:normal;font-family:Menlo,'DejaVu Sans Mono',consolas,'Courier New',monospace\"><span style=\"font-weight: bold\"> Total params: </span><span style=\"color: #00af00; text-decoration-color: #00af00\">100,000</span> (390.62 KB)\n",
              "</pre>\n"
            ],
            "text/plain": [
              "\u001b[1m Total params: \u001b[0m\u001b[38;5;34m100,000\u001b[0m (390.62 KB)\n"
            ]
          },
          "metadata": {},
          "output_type": "display_data"
        },
        {
          "data": {
            "text/html": [
              "<pre style=\"white-space:pre;overflow-x:auto;line-height:normal;font-family:Menlo,'DejaVu Sans Mono',consolas,'Courier New',monospace\"><span style=\"font-weight: bold\"> Trainable params: </span><span style=\"color: #00af00; text-decoration-color: #00af00\">100,000</span> (390.62 KB)\n",
              "</pre>\n"
            ],
            "text/plain": [
              "\u001b[1m Trainable params: \u001b[0m\u001b[38;5;34m100,000\u001b[0m (390.62 KB)\n"
            ]
          },
          "metadata": {},
          "output_type": "display_data"
        },
        {
          "data": {
            "text/html": [
              "<pre style=\"white-space:pre;overflow-x:auto;line-height:normal;font-family:Menlo,'DejaVu Sans Mono',consolas,'Courier New',monospace\"><span style=\"font-weight: bold\"> Non-trainable params: </span><span style=\"color: #00af00; text-decoration-color: #00af00\">0</span> (0.00 B)\n",
              "</pre>\n"
            ],
            "text/plain": [
              "\u001b[1m Non-trainable params: \u001b[0m\u001b[38;5;34m0\u001b[0m (0.00 B)\n"
            ]
          },
          "metadata": {},
          "output_type": "display_data"
        }
      ],
      "source": [
        "model.summary()"
      ]
    },
    {
      "cell_type": "code",
      "execution_count": 17,
      "metadata": {},
      "outputs": [
        {
          "data": {
            "text/plain": [
              "array([   0,    0, 2639, 3096, 4113, 7491, 2639, 1087], dtype=int32)"
            ]
          },
          "execution_count": 17,
          "metadata": {},
          "output_type": "execute_result"
        }
      ],
      "source": [
        "embedded_sent[0]"
      ]
    }
  ],
  "metadata": {
    "colab": {
      "provenance": []
    },
    "kernelspec": {
      "display_name": ".venv",
      "language": "python",
      "name": "python3"
    },
    "language_info": {
      "codemirror_mode": {
        "name": "ipython",
        "version": 3
      },
      "file_extension": ".py",
      "mimetype": "text/x-python",
      "name": "python",
      "nbconvert_exporter": "python",
      "pygments_lexer": "ipython3",
      "version": "3.12.4"
    }
  },
  "nbformat": 4,
  "nbformat_minor": 0
}
